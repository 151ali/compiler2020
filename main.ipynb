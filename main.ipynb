{
 "cells": [
  {
   "cell_type": "markdown",
   "metadata": {},
   "source": [
    "## exemple de Code :"
   ]
  },
  {
   "cell_type": "markdown",
   "metadata": {},
   "source": [
    "<pre style='color:#000020;background:#f6f8ff;'>\n",
    "<span style='color:#200080; font-weight:bold; '>begin</span>\n",
    "\n",
    "    <span style='color:#200080; font-weight:bold; '>let</span> _a <span style='color:#308080; '>=</span> <span style='color:#008c00; '>1;</span>\n",
    "    <span style='color:#200080; font-weight:bold; '>let</span> _b <span style='color:#308080; '>=</span> <span style='color:#008c00; '>1;</span>\n",
    "\n",
    "    <span style='color:#200080; font-weight:bold; '>let</span> _i <span style='color:#308080; '>=</span> <span style='color:#008c00; '>1;</span>\n",
    "    <span style='color:#200080; font-weight:bold; '>let</span> _n<span style='color:#308080; '>;</span>\n",
    "\n",
    "    _n <span style='color:#308080; '>></span><span style='color:#308080; '>>;</span>    <span style='color:#595979; '>// lire(n)</span>\n",
    "\n",
    "    <span style='color:#200080; font-weight:bold; '>while</span> <span style='color:#308080; '>(</span>_i <span style='color:#308080; '>&lt;</span> _n<span style='color:#308080; '>)</span>:\n",
    "\n",
    "        _x <span style='color:#308080; '>=</span> _a <span style='color:#308080; '>+</span> _b<span style='color:#308080; '>;</span>\n",
    "        _a <span style='color:#308080; '>=</span> _b<span style='color:#308080; '>;</span>\n",
    "        _b <span style='color:#308080; '>=</span> _x<span style='color:#308080; '>;</span>\n",
    "\n",
    "    _i<span style='color:#308080; '> =</span> _i<span style='color:#308080; '> +</span><span style='color:#008c00; '> 1</span><span style='color:#308080; '>;</span>\n",
    "    <span style='color:#200080; font-weight:bold; '>ewhile</span>\n",
    "\n",
    "    _x <span style='color:#308080; '>&lt;</span><span style='color:#308080; '>&lt;;</span>\n",
    "\n",
    "<span style='color:#200080; font-weight:bold; '>end</span>\n",
    "</pre>\n"
   ]
  },
  {
   "cell_type": "markdown",
   "metadata": {},
   "source": [
    "# Analyse Lexicale :"
   ]
  },
  {
   "cell_type": "markdown",
   "metadata": {},
   "source": [
    "tout d'abord on defini le langage comme suit :"
   ]
  },
  {
   "cell_type": "markdown",
   "metadata": {},
   "source": [
    "## les mots clé :"
   ]
  },
  {
   "cell_type": "markdown",
   "metadata": {},
   "source": [
    "- begin\n",
    "- end\n",
    "\n",
    "\n",
    "- let\n",
    "\n",
    "\n",
    "- if\n",
    "- eif\n",
    "\n",
    "\n",
    "- else\n",
    "- eelse\n",
    "\n",
    "\n",
    "- while\n",
    "- ewhile\n"
   ]
  },
  {
   "cell_type": "markdown",
   "metadata": {},
   "source": [
    "### et leurs automate : "
   ]
  },
  {
   "cell_type": "markdown",
   "metadata": {},
   "source": [
    "![alt text](keywords_automata.png)"
   ]
  },
  {
   "cell_type": "markdown",
   "metadata": {},
   "source": [
    "## les noms de variables :"
   ]
  },
  {
   "cell_type": "markdown",
   "metadata": {},
   "source": [
    " > Ce langage accepte les noms de variables qui commancent par ** `_` **"
   ]
  },
  {
   "cell_type": "markdown",
   "metadata": {},
   "source": [
    "### et leurs automate :"
   ]
  },
  {
   "cell_type": "markdown",
   "metadata": {},
   "source": [
    "![alt text](id_names.png)"
   ]
  },
  {
   "cell_type": "markdown",
   "metadata": {},
   "source": [
    "## les operateurs :"
   ]
  },
  {
   "cell_type": "code",
   "execution_count": 15,
   "metadata": {},
   "outputs": [],
   "source": [
    "oprt = ['-','*','+','/','%','=','~','>','<']\n",
    "# ~ <=> ==\n",
    "\n",
    "# on ajout apres:\n",
    "# >> read\n",
    "# << write\n",
    "# >=   <=\n"
   ]
  },
  {
   "cell_type": "markdown",
   "metadata": {},
   "source": [
    "## les séparateurs :"
   ]
  },
  {
   "cell_type": "code",
   "execution_count": 16,
   "metadata": {},
   "outputs": [],
   "source": [
    "sep = ['(',')',';',':']"
   ]
  },
  {
   "cell_type": "markdown",
   "metadata": {},
   "source": [
    "### codification( a utiliser dans l'analyse syntaxique ) :"
   ]
  },
  {
   "cell_type": "code",
   "execution_count": 17,
   "metadata": {},
   "outputs": [],
   "source": [
    "ADD   = 0    # +\n",
    "SUB   = 1    # -\n",
    "MUL   = 2    # *\n",
    "DIV   = 3    # /\n",
    "MOD   = 4    # %\n",
    "AFF   = 5    # =\n",
    "EQ    = 6    # ~\n",
    "\n",
    "LE    = 7   # <\n",
    "LEQ   = 8   # <=\n",
    "\n",
    "GT    = 9   # >\n",
    "GTQ   = 10   # >=\n",
    "\n",
    "READ  = 11   # >>\n",
    "PRINT = 12   # <<\n",
    "\n",
    "SEP_OUV = 13 # (\n",
    "SEP_FER = 14 # )\n",
    "SEMI    = 15 # ;\n",
    "DPNT    = 16\n",
    "\n",
    "ID      = 17 # idf\n",
    "CONST   = 18\n",
    "\n",
    "\n",
    "KEY_BEG   =19 # begin\n",
    "KEY_END   =20 # end\n",
    "\n",
    "KEY_IF    =21 # if\n",
    "KEY_EIF   =22\n",
    "KEY_ELSE  =23 # else\n",
    "KEY_EELSE = 24\n",
    "\n",
    "KEY_WH    =25 # while\n",
    "KEY_EWH =26 # ewhile\n",
    "\n",
    "KEY_LET   =27  # let\n"
   ]
  },
  {
   "cell_type": "markdown",
   "metadata": {},
   "source": [
    "## les constantes :"
   ]
  },
  {
   "cell_type": "markdown",
   "metadata": {},
   "source": [
    "les constantes signifie tout nombre ( type double dans le langage C++)\n",
    "> les constantes ont la forme {0:9}.{.}.{0:9}"
   ]
  },
  {
   "cell_type": "markdown",
   "metadata": {},
   "source": []
  },
  {
   "cell_type": "code",
   "execution_count": 18,
   "metadata": {},
   "outputs": [],
   "source": [
    "code = \"\"\"begin\n",
    "& declaration \n",
    "let _a = 1;\n",
    "let _b = 1;\n",
    "    \n",
    "let _i = 0;\n",
    "let _n;\n",
    "\n",
    "& lecture :    \n",
    "_n >>;\n",
    "    \n",
    "while (_i <= _n)\n",
    "    \n",
    "_x = _a + _b;\n",
    "_a = _b;\n",
    "_b = _x;\n",
    "    \n",
    "_i = _i + 1;\n",
    "ewhile;\n",
    "\n",
    "& affichage :  \n",
    "_x <<;\n",
    "\n",
    "end\n",
    "\n",
    "\n",
    "\"\"\""
   ]
  },
  {
   "cell_type": "markdown",
   "metadata": {},
   "source": [
    "# Partie : Implémentation"
   ]
  },
  {
   "cell_type": "code",
   "execution_count": 1,
   "metadata": {},
   "outputs": [],
   "source": [
    "import numpy as np\n",
    "import pandas as pd\n",
    "import string\n",
    "import sys"
   ]
  },
  {
   "cell_type": "code",
   "execution_count": 20,
   "metadata": {},
   "outputs": [],
   "source": [
    "keywords_finit_stats = [5]\n",
    "keywords_automata = pd.read_csv('keywords.csv')"
   ]
  },
  {
   "cell_type": "markdown",
   "metadata": {},
   "source": [
    "### les fonctions de base : "
   ]
  },
  {
   "cell_type": "code",
   "execution_count": 21,
   "metadata": {},
   "outputs": [],
   "source": [
    "def is_keyword(string):\n",
    "    string += '#'\n",
    "    i = 0\n",
    "    current_state = 0\n",
    "    current_term = string[0]\n",
    "    \n",
    "    while current_term != '#' and current_state != -1 :\n",
    "        current_state = keywords_automata[string[i]][current_state]\n",
    "        i+=1\n",
    "        current_term = string[i]        \n",
    "        \n",
    "    if current_term == \"#\" and current_state in keywords_finit_stats:\n",
    "        return True   # accepted\n",
    "    else :\n",
    "        return False  # not accepted"
   ]
  },
  {
   "cell_type": "code",
   "execution_count": 22,
   "metadata": {},
   "outputs": [],
   "source": [
    "def is_idf(string):\n",
    "    i=0\n",
    "    if(string[i] == '_'):\n",
    "        return string[1:].isalnum()\n",
    "    else:\n",
    "        return False"
   ]
  },
  {
   "cell_type": "code",
   "execution_count": 23,
   "metadata": {},
   "outputs": [],
   "source": [
    "def is_const(string):\n",
    "    i=0\n",
    "    if(string[i] == '.' or string[len(string) - 1] == '.'):\n",
    "        return False\n",
    "    else:\n",
    "        num = string.replace('.', '')\n",
    "        return num.isdigit() and ( string.count('.') == 1 or string.count('.') == 0 )"
   ]
  },
  {
   "cell_type": "code",
   "execution_count": 24,
   "metadata": {},
   "outputs": [],
   "source": [
    "def error(msg='',sym=' ',ligne=0):\n",
    "    print(\"Error :\" + msg +\" \"+ sym + \" at ligne \" + str(ligne))\n",
    "    sys.exit(1)"
   ]
  },
  {
   "cell_type": "code",
   "execution_count": 25,
   "metadata": {},
   "outputs": [],
   "source": [
    "def tok(token_type,token):\n",
    "    \"\"\"\n",
    "    input : tocken_type , token\n",
    "    output : dict of token\n",
    "    \"\"\"\n",
    "    return {\"token_type\" : token_type , \"value\" : token}"
   ]
  },
  {
   "cell_type": "markdown",
   "metadata": {},
   "source": [
    "### les tests :"
   ]
  },
  {
   "cell_type": "code",
   "execution_count": 26,
   "metadata": {},
   "outputs": [],
   "source": [
    "#keywords_automata"
   ]
  },
  {
   "cell_type": "code",
   "execution_count": 27,
   "metadata": {},
   "outputs": [
    {
     "data": {
      "text/plain": [
       "True"
      ]
     },
     "execution_count": 27,
     "metadata": {},
     "output_type": "execute_result"
    }
   ],
   "source": [
    "is_keyword('let')"
   ]
  },
  {
   "cell_type": "code",
   "execution_count": 28,
   "metadata": {},
   "outputs": [
    {
     "data": {
      "text/plain": [
       "True"
      ]
     },
     "execution_count": 28,
     "metadata": {},
     "output_type": "execute_result"
    }
   ],
   "source": [
    "is_idf('_LArynx1')"
   ]
  },
  {
   "cell_type": "code",
   "execution_count": 29,
   "metadata": {},
   "outputs": [
    {
     "data": {
      "text/plain": [
       "False"
      ]
     },
     "execution_count": 29,
     "metadata": {},
     "output_type": "execute_result"
    }
   ],
   "source": [
    "is_const('1.A2')"
   ]
  },
  {
   "cell_type": "markdown",
   "metadata": {},
   "source": [
    "## Analyseur lexical : "
   ]
  },
  {
   "cell_type": "code",
   "execution_count": 30,
   "metadata": {},
   "outputs": [],
   "source": [
    "def lexical(code):\n",
    "    i = 0\n",
    "    num_ligne = 1;\n",
    "    tokens_table = []\n",
    "    while i < len(code):\n",
    "        # calcule de lign :::::::::::::::::::::::::::::::::::::::::::::::::::::\n",
    "        if(code[i] == '\\n') : num_ligne += 1\n",
    "        # print(num_ligne)\n",
    "\n",
    "\n",
    "        # comments  :::::::::::::::::::::::::::::::::::::::::::::::::::::::::::\n",
    "        if code[i]=='&':\n",
    "            while code[i] != '\\n':\n",
    "                i+=1\n",
    "\n",
    "\n",
    "        # skip spaces  ::::::::::::::::::::::::::::::::::::::::::::::::::::::::\n",
    "        elif code[i].isspace():\n",
    "            pass\n",
    "\n",
    "\n",
    "        # operateur  ::::::::::::::::::::::::::::::::::::::::::::::::::::::::::\n",
    "        elif code[i] in oprt:\n",
    "            if  code[i] == '+' : \n",
    "                tokens_table.append(tok(ADD,None))\n",
    "                #print(code[i])\n",
    "            elif code[i]== '-' : \n",
    "                tokens_table.append(tok(SUB,None))\n",
    "                #print(code[i])\n",
    "            elif code[i]== '*' : \n",
    "                tokens_table.append(tok(MUL,None))\n",
    "                #print(code[i])\n",
    "            elif code[i]== '/' : \n",
    "                tokens_table.append(tok(DIV,None))\n",
    "                #print(code[i])\n",
    "            elif code[i]== '%' : \n",
    "                tokens_table.append(tok(MOD,None))\n",
    "                #print(code[i])\n",
    "            elif code[i]== '=' : \n",
    "                tokens_table.append(tok(AFF,None))\n",
    "                #print(code[i])\n",
    "            elif code[i]== '~' : \n",
    "                tokens_table.append(tok(EQ,None))\n",
    "                #print(code[i])\n",
    "\n",
    "            elif code[i]== '<' :\n",
    "                if code[i+1] == '<':\n",
    "                    tokens_table.append(tok(PRINT,None))\n",
    "                    #print(code[i]+code[i+1])\n",
    "                    i+=1\n",
    "                elif code[i+1] == '=':\n",
    "                    tokens_table.append(tok(LEQ,None)) # <=\n",
    "                    #print(code[i]+code[i+1])\n",
    "                    i+=1\n",
    "                else :\n",
    "                    tokens_table.append(tok(LE,None))  # <\n",
    "                    #print(code[i])\n",
    "\n",
    "\n",
    "            elif code[i]== '>' :\n",
    "                if code[i+1] == '>':\n",
    "                    tokens_table.append(tok(READ,None))\n",
    "                    #print(code[i]+code[i+1])\n",
    "                    i+=1\n",
    "\n",
    "                elif code[i+1] == '=':\n",
    "                    tokens_table.append(tok(GTQ,None)) # <=\n",
    "                    #print(code[i]+code[i+1])\n",
    "                    i+=1\n",
    "\n",
    "                else :\n",
    "                    tokens_table.append(tok(GT,None)) # <\n",
    "                    #print(code[i])\n",
    "\n",
    "\n",
    "        # separateur :::::::::::::::::::::::::::::::::::::::::::::::::::::::::::::       \n",
    "        elif code[i] in sep :\n",
    "            if code[i] == '(': \n",
    "                tokens_table.append(tok(SEP_OUV,None))\n",
    "            elif code[i] == ')':\n",
    "                tokens_table.append(tok(SEP_OUV,None))\n",
    "            elif code[i] == ';':\n",
    "                tokens_table.append(tok(SEMI,None))\n",
    "            elif code[i] == ':':\n",
    "                tokens_table.append(tok(DPNT,None))\n",
    "            #print(code[i]) # afficher supp      \n",
    "\n",
    "\n",
    "        # idf ::::::::::::::::::::::::::::::::::::::::::::::::::::::;:::::::::::::\n",
    "        elif code[i] == '_':\n",
    "            idf=''\n",
    "            while (not code[i].isspace())and(code[i] not in oprt)and(code[i] not in sep):\n",
    "                idf += code[i]\n",
    "                i+=1\n",
    "            if is_idf(idf):\n",
    "                tokens_table.append(tok(ID,idf))\n",
    "                # print(idf)\n",
    "            else :\n",
    "                error(\"INVALIDE IDF\",idf,num_ligne) # : error ligne number !\n",
    "            i-=1   \n",
    "\n",
    "\n",
    "        # keywords ::::::::::::::::::::::::::::::::::::::::::::::::::::::::::::::::\n",
    "        elif code[i].isalpha():\n",
    "            word = ''\n",
    "            while not code[i].isspace() and  code[i] not in sep:\n",
    "                word += code[i]\n",
    "                i+=1\n",
    "            #print(word)\n",
    "            if is_keyword(word):\n",
    "                if   word == \"begin\" :tokens_table.append(tok(KEY_BEG,word))\n",
    "                elif word == \"end\" :tokens_table.append(tok(KEY_END,word))\n",
    "                elif word == \"if\" :tokens_table.append(tok(KEY_IF,word))\n",
    "                elif word == \"eif\" :tokens_table.append(tok(KEY_EIF,word))\n",
    "                elif word == \"else\" :tokens_table.append(tok(KEY_ELSE,word))\n",
    "                elif word == \"eelse\" :tokens_table.append(tok(KEY_EELSE,word))\n",
    "                elif word == \"while\" :tokens_table.append(tok(KEY_WH,word))\n",
    "                elif word == \"ewhile\" :tokens_table.append(tok(KEY_EWH,word))\n",
    "                elif word == \"let\" :tokens_table.append(tok(KEY_LET,word))     \n",
    "            else :\n",
    "                error(\"INVALIDE KEYWORD\",word,num_ligne) # : error ligne number !\n",
    "\n",
    "            # const (numero) ::::::::::::::::::::::::::::::::::::::::\n",
    "        elif code[i].isnumeric():\n",
    "            num = ''\n",
    "            while not code[i].isspace() and code[i] not in sep: # add not in oprt\n",
    "                num += code[i]\n",
    "                i+=1\n",
    "            #print(num)\n",
    "            i-=1 # <----\n",
    "            if is_const(num):\n",
    "                tokens_table.append(tok(CONST,num))\n",
    "            else :\n",
    "                error(\"INVALIDE CONST\",num,num_ligne)\n",
    "\n",
    "\n",
    "        else:\n",
    "            # num_ligne = 120\n",
    "            error(\"INVALIDE SYMBOLE\",code[i],num_ligne) \n",
    "        i+=1\n",
    "    return tokens_table"
   ]
  },
  {
   "cell_type": "code",
   "execution_count": 31,
   "metadata": {},
   "outputs": [],
   "source": [
    "output = lexical(code)"
   ]
  },
  {
   "cell_type": "code",
   "execution_count": 32,
   "metadata": {},
   "outputs": [
    {
     "data": {
      "text/plain": [
       "[{'token_type': 19, 'value': 'begin'},\n",
       " {'token_type': 27, 'value': 'let'},\n",
       " {'token_type': 17, 'value': '_a'},\n",
       " {'token_type': 5, 'value': None},\n",
       " {'token_type': 18, 'value': '1'},\n",
       " {'token_type': 15, 'value': None},\n",
       " {'token_type': 27, 'value': 'let'},\n",
       " {'token_type': 17, 'value': '_b'},\n",
       " {'token_type': 5, 'value': None},\n",
       " {'token_type': 18, 'value': '1'},\n",
       " {'token_type': 15, 'value': None},\n",
       " {'token_type': 27, 'value': 'let'},\n",
       " {'token_type': 17, 'value': '_i'},\n",
       " {'token_type': 5, 'value': None},\n",
       " {'token_type': 18, 'value': '0'},\n",
       " {'token_type': 15, 'value': None},\n",
       " {'token_type': 27, 'value': 'let'},\n",
       " {'token_type': 17, 'value': '_n'},\n",
       " {'token_type': 15, 'value': None},\n",
       " {'token_type': 17, 'value': '_n'},\n",
       " {'token_type': 11, 'value': None},\n",
       " {'token_type': 15, 'value': None},\n",
       " {'token_type': 25, 'value': 'while'},\n",
       " {'token_type': 13, 'value': None},\n",
       " {'token_type': 17, 'value': '_i'},\n",
       " {'token_type': 8, 'value': None},\n",
       " {'token_type': 17, 'value': '_n'},\n",
       " {'token_type': 13, 'value': None},\n",
       " {'token_type': 17, 'value': '_x'},\n",
       " {'token_type': 5, 'value': None},\n",
       " {'token_type': 17, 'value': '_a'},\n",
       " {'token_type': 0, 'value': None},\n",
       " {'token_type': 17, 'value': '_b'},\n",
       " {'token_type': 15, 'value': None},\n",
       " {'token_type': 17, 'value': '_a'},\n",
       " {'token_type': 5, 'value': None},\n",
       " {'token_type': 17, 'value': '_b'},\n",
       " {'token_type': 15, 'value': None},\n",
       " {'token_type': 17, 'value': '_b'},\n",
       " {'token_type': 5, 'value': None},\n",
       " {'token_type': 17, 'value': '_x'},\n",
       " {'token_type': 15, 'value': None},\n",
       " {'token_type': 17, 'value': '_i'},\n",
       " {'token_type': 5, 'value': None},\n",
       " {'token_type': 17, 'value': '_i'},\n",
       " {'token_type': 0, 'value': None},\n",
       " {'token_type': 18, 'value': '1'},\n",
       " {'token_type': 15, 'value': None},\n",
       " {'token_type': 26, 'value': 'ewhile'},\n",
       " {'token_type': 17, 'value': '_x'},\n",
       " {'token_type': 12, 'value': None},\n",
       " {'token_type': 15, 'value': None},\n",
       " {'token_type': 20, 'value': 'end'}]"
      ]
     },
     "execution_count": 32,
     "metadata": {},
     "output_type": "execute_result"
    }
   ],
   "source": [
    "output # TODO : replace codifivcation with negativer integer !!"
   ]
  },
  {
   "cell_type": "markdown",
   "metadata": {},
   "source": [
    "# Analyse Syntaxique"
   ]
  },
  {
   "cell_type": "code",
   "execution_count": null,
   "metadata": {},
   "outputs": [],
   "source": []
  },
  {
   "cell_type": "markdown",
   "metadata": {},
   "source": [
    "## Grammaire"
   ]
  },
  {
   "cell_type": "markdown",
   "metadata": {},
   "source": [
    "PROG -> begin BODY end  \n",
    "BODY -> VARDCLR BODY  \n",
    "BODY -> INSTRUCTIONS BODY  \n",
    "BODY -> ''  \n",
    "  \n",
    "INSTRUCTIONS -> AFF  \n",
    "INSTRUCTIONS-> WHILE  \n",
    "INSTRUCTIONS-> IF  \n",
    "INSTRUCTIONS-> IN  \n",
    "INSTRUCTIONS -> OUT  \n",
    "  \n",
    "VARDCLR -> let IDF STOP  \n",
    "STOP -> ;  \n",
    "STOP -> = idf ;  \n",
    "STOP -> = num ;  \n",
    "  \n",
    "EXPR -> T X  \n",
    "X -> + T X  \n",
    "X -> - T X  \n",
    "\n",
    "X -> ''  \n",
    "T -> F Z  \n",
    "Z -> * F Z  \n",
    "Z -> / F Z  \n",
    "Z -> ''  \n",
    "F -> ( EXPR )  \n",
    "F -> idf  \n",
    "F -> num  \n",
    "  \n",
    "AFF -> IDF = EXPR ;  \n",
    "WHILE -> while ( COND ) : BODY ewhile  \n",
    "COND -> OPRD OPR OPRD  \n",
    "OPR -> ~  \n",
    "OPR -> <  \n",
    "OPR -> <=  \n",
    "OPR -> >  \n",
    "OPR -> >=  \n",
    "OPRD -> IDF  \n",
    "OPRD -> NUM  \n",
    "  \n",
    "IF -> if ( COND ) : BODY eif else : BODY eelse  \n",
    "IF -> if ( COND ) : BODY eif  \n",
    "  \n",
    "IN -> >> IDF ;  \n",
    "OUT -> << OPRD ;  \n",
    "IDF -> idf  \n",
    "NUM -> num  "
   ]
  },
  {
   "cell_type": "markdown",
   "metadata": {},
   "source": [
    "## table des débuts :"
   ]
  },
  {
   "cell_type": "markdown",
   "metadata": {},
   "source": [
    "| Nonterminal  | FIRST                     |\n",
    "|:-------------|:------------------------- |\n",
    "| PROG         | begin                     |\n",
    "| BODY         | ε,let,while,if,>>,<<,idf |\n",
    "| INSTRUCTIONS | while,if,>>,<<,idf        |\n",
    "| VARDCLR      | let                       |\n",
    "| STOP         | ;,=                       |\n",
    "| EXPR         | \\(,idf,num                |\n",
    "| X            | \\+,\\-,ε                  |\n",
    "| T            | \\(,idf,num                |\n",
    "| Z            | \\*,/,ε                   |\n",
    "| F            | \\(,idf,num                |\n",
    "| AFF          | idf                       |\n",
    "| WHILE        | while                     |\n",
    "| COND         | idf,num                   |\n",
    "| OPR          | ~,<,<=,>,>=               |\n",
    "| OPRD         | idf,num                   |\n",
    "| IF           | if                        |\n",
    "| IN           | >>                        |\n",
    "| OUT          | <<                        |\n",
    "| IDF          | idf                       |\n",
    "| NUM          | num                       |\n"
   ]
  },
  {
   "cell_type": "markdown",
   "metadata": {},
   "source": [
    "### Grammar implementation :"
   ]
  },
  {
   "cell_type": "code",
   "execution_count": 45,
   "metadata": {},
   "outputs": [],
   "source": [
    "def get_reduction_rule(number):\n",
    "    grammar = {\n",
    "        0:{\"non_terminal\" : \"PROG\", \"production\" : \"begin BODY end\"},  \n",
    "        1:{\"non_terminal\" : \"BODY\", \"production\" : \"VARDCLR BODY\"},  \n",
    "        2:{\"non_terminal\" : \"BODY\", \"production\" : \"INSTRUCTIONS BODY\"},  \n",
    "        3:{\"non_terminal\" : \"BODY\", \"production\" : \"\"},  \n",
    "\n",
    "        4:{\"non_terminal\" : \"INSTRUCTIONS\", \"production\" : \"AFF\"},  \n",
    "        5:{\"non_terminal\" : \"INSTRUCTIONS\", \"production\" : \"WHILE\"},  \n",
    "        6:{\"non_terminal\" : \"INSTRUCTIONS\", \"production\" : \"IF\"},  \n",
    "        7:{\"non_terminal\" : \"INSTRUCTIONS\", \"production\" : \"IN\"},  \n",
    "        8:{\"non_terminal\" : \"INSTRUCTIONS\", \"production\" : \"OUT\"},  \n",
    "\n",
    "        9:{\"non_terminal\" : \"VARDCLR\", \"production\" : \"let IDF STOP\"},  \n",
    "        10:{\"non_terminal\" : \"STOP\", \"production\" : \";\"},  \n",
    "        11:{\"non_terminal\" : \"STOP\", \"production\" : \"= idf ;\"},  \n",
    "        12:{\"non_terminal\" : \"STOP\", \"production\" : \"= num ;\"},  \n",
    "\n",
    "        13:{\"non_terminal\" : \"EXPR\", \"production\" : \"T X\"},  \n",
    "        14:{\"non_terminal\" : \"X\", \"production\" : \"+ T X\"},  \n",
    "        15:{\"non_terminal\" : \"X\", \"production\" : \"- T X\"},  \n",
    "\n",
    "        16:{\"non_terminal\" : \"X\", \"production\" : \"\"},  \n",
    "        17:{\"non_terminal\" : \"T\", \"production\" : \"F Z\"},  \n",
    "        18:{\"non_terminal\" : \"Z\", \"production\" : \"* F Z\"},  \n",
    "        19:{\"non_terminal\" : \"Z\", \"production\" : \"/ F Z\"},  \n",
    "        20:{\"non_terminal\" : \"Z\", \"production\" : \"\"},  \n",
    "        21:{\"non_terminal\" : \"F\", \"production\" : \"( EXPR )\"},  \n",
    "        22:{\"non_terminal\" : \"F\", \"production\" : \"idf\"},  \n",
    "        23:{\"non_terminal\" : \"F\", \"production\" : \"num\"},  \n",
    "\n",
    "        24:{\"non_terminal\" : \"AFF\", \"production\" : \"IDF = EXPR ;\"},  \n",
    "        25:{\"non_terminal\" : \"WHILE\", \"production\" : \"while ( COND ) : BODY ewhile\"},  \n",
    "        26:{\"non_terminal\" : \"COND\", \"production\" : \"OPRD OPR OPRD\"},  \n",
    "        27:{\"non_terminal\" : \"OPR\", \"production\" : \"~\"},  \n",
    "        28:{\"non_terminal\" : \"OPR\", \"production\" : \"<\"},  \n",
    "        29:{\"non_terminal\" : \"OPR\", \"production\" : \"<=\"},  \n",
    "        30:{\"non_terminal\" : \"OPR\", \"production\" : \">\"},  \n",
    "        31:{\"non_terminal\" : \"OPR\", \"production\" : \">=\"},  \n",
    "        32:{\"non_terminal\" : \"OPRD\", \"production\" : \"IDF\"},  \n",
    "        33:{\"non_terminal\" : \"OPRD\", \"production\" : \"NUM\"},  \n",
    "\n",
    "        34:{\"non_terminal\" : \"IF\", \"production\" : \"if ( COND ) : BODY eif else : BODY eelse\"},  \n",
    "        35:{\"non_terminal\" : \"IF\", \"production\" : \"if ( COND ) : BODY eif\"},  \n",
    "\n",
    "        36:{\"non_terminal\" : \"IN\",  \"production\" : \">> IDF ;\"},  \n",
    "        37:{\"non_terminal\" : \"OUT\", \"production\" : \"<< OPRD ;\"},  \n",
    "        38:{\"non_terminal\" : \"IDF\", \"production\" : \"idf\"},  \n",
    "        39:{\"non_terminal\" : \"NUM\", \"production\" : \"num\"}  \n",
    "\n",
    "    }\n",
    "    \n",
    "    return grammar.get(number,\"Pas d'action\")\n",
    "    "
   ]
  },
  {
   "cell_type": "code",
   "execution_count": 48,
   "metadata": {},
   "outputs": [
    {
     "data": {
      "text/plain": [
       "{'non_terminal': 'BODY', 'production': 'VARDCLR BODY'}"
      ]
     },
     "execution_count": 48,
     "metadata": {},
     "output_type": "execute_result"
    }
   ],
   "source": [
    "get_reduction_rule(1)"
   ]
  },
  {
   "cell_type": "code",
   "execution_count": 47,
   "metadata": {},
   "outputs": [],
   "source": [
    "lr_table = pd.read_csv(\"lalr/LR_table.csv\")"
   ]
  },
  {
   "cell_type": "code",
   "execution_count": 8,
   "metadata": {},
   "outputs": [
    {
     "data": {
      "text/plain": [
       "'acc'"
      ]
     },
     "execution_count": 8,
     "metadata": {},
     "output_type": "execute_result"
    }
   ],
   "source": [
    "lr_table[\"$\"][17]"
   ]
  },
  {
   "cell_type": "code",
   "execution_count": 13,
   "metadata": {},
   "outputs": [
    {
     "data": {
      "text/plain": [
       "'s1'"
      ]
     },
     "execution_count": 13,
     "metadata": {},
     "output_type": "execute_result"
    }
   ],
   "source": [
    "lr_table[\"begin\"][0]"
   ]
  },
  {
   "cell_type": "markdown",
   "metadata": {},
   "source": [
    "### test de l'analyse "
   ]
  },
  {
   "cell_type": "code",
   "execution_count": 19,
   "metadata": {},
   "outputs": [],
   "source": [
    "def get_action(action):\n",
    "    if action == \"acc\"  :\n",
    "        return {\"action\": \"accept\",\n",
    "                \"number\":None}\n",
    "    \n",
    "    elif action[0] == \"r\" :\n",
    "        return {\"action\": \"Reduction\",\n",
    "                \"number\":action[1:]}\n",
    "    \n",
    "    elif action[0] == \"s\" :\n",
    "        return {\"action\": \"Shift\",\n",
    "                \"number\": action[1:]}\n",
    "    \n",
    "    elif action == ' ' :\n",
    "        return {\"action\": None,\n",
    "                \"number\":None}"
   ]
  },
  {
   "cell_type": "code",
   "execution_count": null,
   "metadata": {},
   "outputs": [],
   "source": []
  },
  {
   "cell_type": "code",
   "execution_count": 84,
   "metadata": {},
   "outputs": [],
   "source": [
    "# test !:::::::\n",
    "prog = \"begin >> idf end\""
   ]
  },
  {
   "cell_type": "code",
   "execution_count": 51,
   "metadata": {},
   "outputs": [],
   "source": [
    "prog = \"begin let idf = num end\""
   ]
  },
  {
   "cell_type": "code",
   "execution_count": 90,
   "metadata": {},
   "outputs": [],
   "source": [
    "prog = \"begin let idf = num ; let idf = num ; let idf = num ; let idf ; >> idf ; while ( idf <= idf ) : idf = idf + idf ; idf = idf ; idf = idf ; idf = idf + num ; ewhile << idf ; end\""
   ]
  },
  {
   "cell_type": "code",
   "execution_count": 91,
   "metadata": {},
   "outputs": [
    {
     "name": "stdout",
     "output_type": "stream",
     "text": [
      "['#', 0, 'begin', 1]\n",
      "['#', 0, 'begin', 1, 'let', 5]\n",
      "['#', 0, 'begin', 1, 'let', 5, 'idf', 16]\n",
      "{'non_terminal': 'IDF', 'production': 'idf'}\n",
      "['#', 0, 'begin', 1, 'let', 5, 'IDF', 20]\n",
      "['#', 0, 'begin', 1, 'let', 5, 'IDF', 20, '=', 31]\n",
      "['#', 0, 'begin', 1, 'let', 5, 'IDF', 20, '=', 31, 'num', 44]\n",
      "['#', 0, 'begin', 1, 'let', 5, 'IDF', 20, '=', 31, 'num', 44, ';', 62]\n",
      "{'non_terminal': 'STOP', 'production': '= num ;'}\n",
      "['#', 0, 'begin', 1, 'let', 5, 'IDF', 20, 'STOP', 29]\n",
      "{'non_terminal': 'VARDCLR', 'production': 'let IDF STOP'}\n",
      "['#', 0, 'begin', 1, 'VARDCLR', 3]\n",
      "['#', 0, 'begin', 1, 'VARDCLR', 3, 'let', 5]\n",
      "['#', 0, 'begin', 1, 'VARDCLR', 3, 'let', 5, 'idf', 16]\n",
      "{'non_terminal': 'IDF', 'production': 'idf'}\n",
      "['#', 0, 'begin', 1, 'VARDCLR', 3, 'let', 5, 'IDF', 20]\n",
      "['#', 0, 'begin', 1, 'VARDCLR', 3, 'let', 5, 'IDF', 20, '=', 31]\n",
      "['#', 0, 'begin', 1, 'VARDCLR', 3, 'let', 5, 'IDF', 20, '=', 31, 'num', 44]\n",
      "['#', 0, 'begin', 1, 'VARDCLR', 3, 'let', 5, 'IDF', 20, '=', 31, 'num', 44, ';', 62]\n",
      "{'non_terminal': 'STOP', 'production': '= num ;'}\n",
      "['#', 0, 'begin', 1, 'VARDCLR', 3, 'let', 5, 'IDF', 20, 'STOP', 29]\n",
      "{'non_terminal': 'VARDCLR', 'production': 'let IDF STOP'}\n",
      "['#', 0, 'begin', 1, 'VARDCLR', 3, 'VARDCLR', 3]\n",
      "['#', 0, 'begin', 1, 'VARDCLR', 3, 'VARDCLR', 3, 'let', 5]\n",
      "['#', 0, 'begin', 1, 'VARDCLR', 3, 'VARDCLR', 3, 'let', 5, 'idf', 16]\n",
      "{'non_terminal': 'IDF', 'production': 'idf'}\n",
      "['#', 0, 'begin', 1, 'VARDCLR', 3, 'VARDCLR', 3, 'let', 5, 'IDF', 20]\n",
      "['#', 0, 'begin', 1, 'VARDCLR', 3, 'VARDCLR', 3, 'let', 5, 'IDF', 20, '=', 31]\n",
      "['#', 0, 'begin', 1, 'VARDCLR', 3, 'VARDCLR', 3, 'let', 5, 'IDF', 20, '=', 31, 'num', 44]\n",
      "['#', 0, 'begin', 1, 'VARDCLR', 3, 'VARDCLR', 3, 'let', 5, 'IDF', 20, '=', 31, 'num', 44, ';', 62]\n",
      "{'non_terminal': 'STOP', 'production': '= num ;'}\n",
      "['#', 0, 'begin', 1, 'VARDCLR', 3, 'VARDCLR', 3, 'let', 5, 'IDF', 20, 'STOP', 29]\n",
      "{'non_terminal': 'VARDCLR', 'production': 'let IDF STOP'}\n",
      "['#', 0, 'begin', 1, 'VARDCLR', 3, 'VARDCLR', 3, 'VARDCLR', 3]\n",
      "['#', 0, 'begin', 1, 'VARDCLR', 3, 'VARDCLR', 3, 'VARDCLR', 3, 'let', 5]\n",
      "['#', 0, 'begin', 1, 'VARDCLR', 3, 'VARDCLR', 3, 'VARDCLR', 3, 'let', 5, 'idf', 16]\n",
      "{'non_terminal': 'IDF', 'production': 'idf'}\n",
      "['#', 0, 'begin', 1, 'VARDCLR', 3, 'VARDCLR', 3, 'VARDCLR', 3, 'let', 5, 'IDF', 20]\n",
      "['#', 0, 'begin', 1, 'VARDCLR', 3, 'VARDCLR', 3, 'VARDCLR', 3, 'let', 5, 'IDF', 20, ';', 30]\n",
      "{'non_terminal': 'STOP', 'production': ';'}\n",
      "['#', 0, 'begin', 1, 'VARDCLR', 3, 'VARDCLR', 3, 'VARDCLR', 3, 'let', 5, 'IDF', 20, 'STOP', 29]\n",
      "{'non_terminal': 'VARDCLR', 'production': 'let IDF STOP'}\n",
      "['#', 0, 'begin', 1, 'VARDCLR', 3, 'VARDCLR', 3, 'VARDCLR', 3, 'VARDCLR', 3]\n",
      "['#', 0, 'begin', 1, 'VARDCLR', 3, 'VARDCLR', 3, 'VARDCLR', 3, 'VARDCLR', 3, '>>', 14]\n",
      "['#', 0, 'begin', 1, 'VARDCLR', 3, 'VARDCLR', 3, 'VARDCLR', 3, 'VARDCLR', 3, '>>', 14, 'idf', 16]\n",
      "{'non_terminal': 'IDF', 'production': 'idf'}\n",
      "['#', 0, 'begin', 1, 'VARDCLR', 3, 'VARDCLR', 3, 'VARDCLR', 3, 'VARDCLR', 3, '>>', 14, 'IDF', 24]\n",
      "['#', 0, 'begin', 1, 'VARDCLR', 3, 'VARDCLR', 3, 'VARDCLR', 3, 'VARDCLR', 3, '>>', 14, 'IDF', 24, ';', 41]\n",
      "{'non_terminal': 'IN', 'production': '>> IDF ;'}\n",
      "['#', 0, 'begin', 1, 'VARDCLR', 3, 'VARDCLR', 3, 'VARDCLR', 3, 'VARDCLR', 3, 'IN', 9]\n",
      "{'non_terminal': 'INSTRUCTIONS', 'production': 'IN'}\n",
      "['#', 0, 'begin', 1, 'VARDCLR', 3, 'VARDCLR', 3, 'VARDCLR', 3, 'VARDCLR', 3, 'INSTRUCTIONS', 4]\n",
      "['#', 0, 'begin', 1, 'VARDCLR', 3, 'VARDCLR', 3, 'VARDCLR', 3, 'VARDCLR', 3, 'INSTRUCTIONS', 4, 'while', 12]\n",
      "['#', 0, 'begin', 1, 'VARDCLR', 3, 'VARDCLR', 3, 'VARDCLR', 3, 'VARDCLR', 3, 'INSTRUCTIONS', 4, 'while', 12, '(', 22]\n",
      "['#', 0, 'begin', 1, 'VARDCLR', 3, 'VARDCLR', 3, 'VARDCLR', 3, 'VARDCLR', 3, 'INSTRUCTIONS', 4, 'while', 12, '(', 22, 'idf', 16]\n",
      "{'non_terminal': 'IDF', 'production': 'idf'}\n",
      "['#', 0, 'begin', 1, 'VARDCLR', 3, 'VARDCLR', 3, 'VARDCLR', 3, 'VARDCLR', 3, 'INSTRUCTIONS', 4, 'while', 12, '(', 22, 'IDF', 26]\n",
      "{'non_terminal': 'OPRD', 'production': 'IDF'}\n",
      "['#', 0, 'begin', 1, 'VARDCLR', 3, 'VARDCLR', 3, 'VARDCLR', 3, 'VARDCLR', 3, 'INSTRUCTIONS', 4, 'while', 12, '(', 22, 'OPRD', 39]\n",
      "['#', 0, 'begin', 1, 'VARDCLR', 3, 'VARDCLR', 3, 'VARDCLR', 3, 'VARDCLR', 3, 'INSTRUCTIONS', 4, 'while', 12, '(', 22, 'OPRD', 39, '<=', 57]\n",
      "{'non_terminal': 'OPR', 'production': '<='}\n",
      "['#', 0, 'begin', 1, 'VARDCLR', 3, 'VARDCLR', 3, 'VARDCLR', 3, 'VARDCLR', 3, 'INSTRUCTIONS', 4, 'while', 12, '(', 22, 'OPRD', 39, 'OPR', 54]\n",
      "['#', 0, 'begin', 1, 'VARDCLR', 3, 'VARDCLR', 3, 'VARDCLR', 3, 'VARDCLR', 3, 'INSTRUCTIONS', 4, 'while', 12, '(', 22, 'OPRD', 39, 'OPR', 54, 'idf', 16]\n",
      "{'non_terminal': 'IDF', 'production': 'idf'}\n",
      "['#', 0, 'begin', 1, 'VARDCLR', 3, 'VARDCLR', 3, 'VARDCLR', 3, 'VARDCLR', 3, 'INSTRUCTIONS', 4, 'while', 12, '(', 22, 'OPRD', 39, 'OPR', 54, 'IDF', 26]\n",
      "{'non_terminal': 'OPRD', 'production': 'IDF'}\n",
      "['#', 0, 'begin', 1, 'VARDCLR', 3, 'VARDCLR', 3, 'VARDCLR', 3, 'VARDCLR', 3, 'INSTRUCTIONS', 4, 'while', 12, '(', 22, 'OPRD', 39, 'OPR', 54, 'OPRD', 69]\n",
      "{'non_terminal': 'COND', 'production': 'OPRD OPR OPRD'}\n",
      "['#', 0, 'begin', 1, 'VARDCLR', 3, 'VARDCLR', 3, 'VARDCLR', 3, 'VARDCLR', 3, 'INSTRUCTIONS', 4, 'while', 12, '(', 22, 'COND', 38]\n",
      "['#', 0, 'begin', 1, 'VARDCLR', 3, 'VARDCLR', 3, 'VARDCLR', 3, 'VARDCLR', 3, 'INSTRUCTIONS', 4, 'while', 12, '(', 22, 'COND', 38, ')', 53]\n",
      "['#', 0, 'begin', 1, 'VARDCLR', 3, 'VARDCLR', 3, 'VARDCLR', 3, 'VARDCLR', 3, 'INSTRUCTIONS', 4, 'while', 12, '(', 22, 'COND', 38, ')', 53, ':', 68]\n",
      "['#', 0, 'begin', 1, 'VARDCLR', 3, 'VARDCLR', 3, 'VARDCLR', 3, 'VARDCLR', 3, 'INSTRUCTIONS', 4, 'while', 12, '(', 22, 'COND', 38, ')', 53, ':', 68, 'idf', 16]\n",
      "{'non_terminal': 'IDF', 'production': 'idf'}\n",
      "['#', 0, 'begin', 1, 'VARDCLR', 3, 'VARDCLR', 3, 'VARDCLR', 3, 'VARDCLR', 3, 'INSTRUCTIONS', 4, 'while', 12, '(', 22, 'COND', 38, ')', 53, ':', 68, 'IDF', 11]\n",
      "['#', 0, 'begin', 1, 'VARDCLR', 3, 'VARDCLR', 3, 'VARDCLR', 3, 'VARDCLR', 3, 'INSTRUCTIONS', 4, 'while', 12, '(', 22, 'COND', 38, ')', 53, ':', 68, 'IDF', 11, '=', 21]\n",
      "['#', 0, 'begin', 1, 'VARDCLR', 3, 'VARDCLR', 3, 'VARDCLR', 3, 'VARDCLR', 3, 'INSTRUCTIONS', 4, 'while', 12, '(', 22, 'COND', 38, ')', 53, ':', 68, 'IDF', 11, '=', 21, 'idf', 36]\n",
      "{'non_terminal': 'F', 'production': 'idf'}\n",
      "['#', 0, 'begin', 1, 'VARDCLR', 3, 'VARDCLR', 3, 'VARDCLR', 3, 'VARDCLR', 3, 'INSTRUCTIONS', 4, 'while', 12, '(', 22, 'COND', 38, ')', 53, ':', 68, 'IDF', 11, '=', 21, 'F', 34]\n",
      "{'non_terminal': 'Z', 'production': ''}\n",
      "['#', 0, 'begin', 1, 'VARDCLR', 3, 'VARDCLR', 3, 'VARDCLR', 3, 'VARDCLR', 3, 'INSTRUCTIONS', 4, 'while', 12, '(', 22, 'COND', 38, ')', 53, ':', 68, 'IDF', 11, '=', 21, 'F', 34, 'Z', 49]\n",
      "{'non_terminal': 'T', 'production': 'F Z'}\n",
      "['#', 0, 'begin', 1, 'VARDCLR', 3, 'VARDCLR', 3, 'VARDCLR', 3, 'VARDCLR', 3, 'INSTRUCTIONS', 4, 'while', 12, '(', 22, 'COND', 38, ')', 53, ':', 68, 'IDF', 11, '=', 21, 'T', 33]\n",
      "['#', 0, 'begin', 1, 'VARDCLR', 3, 'VARDCLR', 3, 'VARDCLR', 3, 'VARDCLR', 3, 'INSTRUCTIONS', 4, 'while', 12, '(', 22, 'COND', 38, ')', 53, ':', 68, 'IDF', 11, '=', 21, 'T', 33, '+', 47]\n",
      "['#', 0, 'begin', 1, 'VARDCLR', 3, 'VARDCLR', 3, 'VARDCLR', 3, 'VARDCLR', 3, 'INSTRUCTIONS', 4, 'while', 12, '(', 22, 'COND', 38, ')', 53, ':', 68, 'IDF', 11, '=', 21, 'T', 33, '+', 47, 'idf', 36]\n",
      "{'non_terminal': 'F', 'production': 'idf'}\n",
      "['#', 0, 'begin', 1, 'VARDCLR', 3, 'VARDCLR', 3, 'VARDCLR', 3, 'VARDCLR', 3, 'INSTRUCTIONS', 4, 'while', 12, '(', 22, 'COND', 38, ')', 53, ':', 68, 'IDF', 11, '=', 21, 'T', 33, '+', 47, 'F', 34]\n",
      "{'non_terminal': 'Z', 'production': ''}\n",
      "['#', 0, 'begin', 1, 'VARDCLR', 3, 'VARDCLR', 3, 'VARDCLR', 3, 'VARDCLR', 3, 'INSTRUCTIONS', 4, 'while', 12, '(', 22, 'COND', 38, ')', 53, ':', 68, 'IDF', 11, '=', 21, 'T', 33, '+', 47, 'F', 34, 'Z', 49]\n",
      "{'non_terminal': 'T', 'production': 'F Z'}\n",
      "['#', 0, 'begin', 1, 'VARDCLR', 3, 'VARDCLR', 3, 'VARDCLR', 3, 'VARDCLR', 3, 'INSTRUCTIONS', 4, 'while', 12, '(', 22, 'COND', 38, ')', 53, ':', 68, 'IDF', 11, '=', 21, 'T', 33, '+', 47, 'T', 63]\n",
      "{'non_terminal': 'X', 'production': ''}\n",
      "['#', 0, 'begin', 1, 'VARDCLR', 3, 'VARDCLR', 3, 'VARDCLR', 3, 'VARDCLR', 3, 'INSTRUCTIONS', 4, 'while', 12, '(', 22, 'COND', 38, ')', 53, ':', 68, 'IDF', 11, '=', 21, 'T', 33, '+', 47, 'T', 63, 'X', 71]\n",
      "{'non_terminal': 'X', 'production': '+ T X'}\n",
      "['#', 0, 'begin', 1, 'VARDCLR', 3, 'VARDCLR', 3, 'VARDCLR', 3, 'VARDCLR', 3, 'INSTRUCTIONS', 4, 'while', 12, '(', 22, 'COND', 38, ')', 53, ':', 68, 'IDF', 11, '=', 21, 'T', 33, 'X', 46]\n",
      "{'non_terminal': 'EXPR', 'production': 'T X'}\n",
      "['#', 0, 'begin', 1, 'VARDCLR', 3, 'VARDCLR', 3, 'VARDCLR', 3, 'VARDCLR', 3, 'INSTRUCTIONS', 4, 'while', 12, '(', 22, 'COND', 38, ')', 53, ':', 68, 'IDF', 11, '=', 21, 'EXPR', 32]\n",
      "['#', 0, 'begin', 1, 'VARDCLR', 3, 'VARDCLR', 3, 'VARDCLR', 3, 'VARDCLR', 3, 'INSTRUCTIONS', 4, 'while', 12, '(', 22, 'COND', 38, ')', 53, ':', 68, 'IDF', 11, '=', 21, 'EXPR', 32, ';', 45]\n",
      "{'non_terminal': 'AFF', 'production': 'IDF = EXPR ;'}\n",
      "['#', 0, 'begin', 1, 'VARDCLR', 3, 'VARDCLR', 3, 'VARDCLR', 3, 'VARDCLR', 3, 'INSTRUCTIONS', 4, 'while', 12, '(', 22, 'COND', 38, ')', 53, ':', 68, 'AFF', 6]\n",
      "{'non_terminal': 'INSTRUCTIONS', 'production': 'AFF'}\n",
      "['#', 0, 'begin', 1, 'VARDCLR', 3, 'VARDCLR', 3, 'VARDCLR', 3, 'VARDCLR', 3, 'INSTRUCTIONS', 4, 'while', 12, '(', 22, 'COND', 38, ')', 53, ':', 68, 'INSTRUCTIONS', 4]\n",
      "['#', 0, 'begin', 1, 'VARDCLR', 3, 'VARDCLR', 3, 'VARDCLR', 3, 'VARDCLR', 3, 'INSTRUCTIONS', 4, 'while', 12, '(', 22, 'COND', 38, ')', 53, ':', 68, 'INSTRUCTIONS', 4, 'idf', 16]\n",
      "{'non_terminal': 'IDF', 'production': 'idf'}\n",
      "['#', 0, 'begin', 1, 'VARDCLR', 3, 'VARDCLR', 3, 'VARDCLR', 3, 'VARDCLR', 3, 'INSTRUCTIONS', 4, 'while', 12, '(', 22, 'COND', 38, ')', 53, ':', 68, 'INSTRUCTIONS', 4, 'IDF', 11]\n",
      "['#', 0, 'begin', 1, 'VARDCLR', 3, 'VARDCLR', 3, 'VARDCLR', 3, 'VARDCLR', 3, 'INSTRUCTIONS', 4, 'while', 12, '(', 22, 'COND', 38, ')', 53, ':', 68, 'INSTRUCTIONS', 4, 'IDF', 11, '=', 21]\n",
      "['#', 0, 'begin', 1, 'VARDCLR', 3, 'VARDCLR', 3, 'VARDCLR', 3, 'VARDCLR', 3, 'INSTRUCTIONS', 4, 'while', 12, '(', 22, 'COND', 38, ')', 53, ':', 68, 'INSTRUCTIONS', 4, 'IDF', 11, '=', 21, 'idf', 36]\n",
      "{'non_terminal': 'F', 'production': 'idf'}\n",
      "['#', 0, 'begin', 1, 'VARDCLR', 3, 'VARDCLR', 3, 'VARDCLR', 3, 'VARDCLR', 3, 'INSTRUCTIONS', 4, 'while', 12, '(', 22, 'COND', 38, ')', 53, ':', 68, 'INSTRUCTIONS', 4, 'IDF', 11, '=', 21, 'F', 34]\n",
      "{'non_terminal': 'Z', 'production': ''}\n",
      "['#', 0, 'begin', 1, 'VARDCLR', 3, 'VARDCLR', 3, 'VARDCLR', 3, 'VARDCLR', 3, 'INSTRUCTIONS', 4, 'while', 12, '(', 22, 'COND', 38, ')', 53, ':', 68, 'INSTRUCTIONS', 4, 'IDF', 11, '=', 21, 'F', 34, 'Z', 49]\n",
      "{'non_terminal': 'T', 'production': 'F Z'}\n",
      "['#', 0, 'begin', 1, 'VARDCLR', 3, 'VARDCLR', 3, 'VARDCLR', 3, 'VARDCLR', 3, 'INSTRUCTIONS', 4, 'while', 12, '(', 22, 'COND', 38, ')', 53, ':', 68, 'INSTRUCTIONS', 4, 'IDF', 11, '=', 21, 'T', 33]\n",
      "{'non_terminal': 'X', 'production': ''}\n",
      "['#', 0, 'begin', 1, 'VARDCLR', 3, 'VARDCLR', 3, 'VARDCLR', 3, 'VARDCLR', 3, 'INSTRUCTIONS', 4, 'while', 12, '(', 22, 'COND', 38, ')', 53, ':', 68, 'INSTRUCTIONS', 4, 'IDF', 11, '=', 21, 'T', 33, 'X', 46]\n",
      "{'non_terminal': 'EXPR', 'production': 'T X'}\n",
      "['#', 0, 'begin', 1, 'VARDCLR', 3, 'VARDCLR', 3, 'VARDCLR', 3, 'VARDCLR', 3, 'INSTRUCTIONS', 4, 'while', 12, '(', 22, 'COND', 38, ')', 53, ':', 68, 'INSTRUCTIONS', 4, 'IDF', 11, '=', 21, 'EXPR', 32]\n",
      "['#', 0, 'begin', 1, 'VARDCLR', 3, 'VARDCLR', 3, 'VARDCLR', 3, 'VARDCLR', 3, 'INSTRUCTIONS', 4, 'while', 12, '(', 22, 'COND', 38, ')', 53, ':', 68, 'INSTRUCTIONS', 4, 'IDF', 11, '=', 21, 'EXPR', 32, ';', 45]\n",
      "{'non_terminal': 'AFF', 'production': 'IDF = EXPR ;'}\n",
      "['#', 0, 'begin', 1, 'VARDCLR', 3, 'VARDCLR', 3, 'VARDCLR', 3, 'VARDCLR', 3, 'INSTRUCTIONS', 4, 'while', 12, '(', 22, 'COND', 38, ')', 53, ':', 68, 'INSTRUCTIONS', 4, 'AFF', 6]\n",
      "{'non_terminal': 'INSTRUCTIONS', 'production': 'AFF'}\n",
      "['#', 0, 'begin', 1, 'VARDCLR', 3, 'VARDCLR', 3, 'VARDCLR', 3, 'VARDCLR', 3, 'INSTRUCTIONS', 4, 'while', 12, '(', 22, 'COND', 38, ')', 53, ':', 68, 'INSTRUCTIONS', 4, 'INSTRUCTIONS', 4]\n",
      "['#', 0, 'begin', 1, 'VARDCLR', 3, 'VARDCLR', 3, 'VARDCLR', 3, 'VARDCLR', 3, 'INSTRUCTIONS', 4, 'while', 12, '(', 22, 'COND', 38, ')', 53, ':', 68, 'INSTRUCTIONS', 4, 'INSTRUCTIONS', 4, 'idf', 16]\n",
      "{'non_terminal': 'IDF', 'production': 'idf'}\n",
      "['#', 0, 'begin', 1, 'VARDCLR', 3, 'VARDCLR', 3, 'VARDCLR', 3, 'VARDCLR', 3, 'INSTRUCTIONS', 4, 'while', 12, '(', 22, 'COND', 38, ')', 53, ':', 68, 'INSTRUCTIONS', 4, 'INSTRUCTIONS', 4, 'IDF', 11]\n",
      "['#', 0, 'begin', 1, 'VARDCLR', 3, 'VARDCLR', 3, 'VARDCLR', 3, 'VARDCLR', 3, 'INSTRUCTIONS', 4, 'while', 12, '(', 22, 'COND', 38, ')', 53, ':', 68, 'INSTRUCTIONS', 4, 'INSTRUCTIONS', 4, 'IDF', 11, '=', 21]\n",
      "['#', 0, 'begin', 1, 'VARDCLR', 3, 'VARDCLR', 3, 'VARDCLR', 3, 'VARDCLR', 3, 'INSTRUCTIONS', 4, 'while', 12, '(', 22, 'COND', 38, ')', 53, ':', 68, 'INSTRUCTIONS', 4, 'INSTRUCTIONS', 4, 'IDF', 11, '=', 21, 'idf', 36]\n",
      "{'non_terminal': 'F', 'production': 'idf'}\n",
      "['#', 0, 'begin', 1, 'VARDCLR', 3, 'VARDCLR', 3, 'VARDCLR', 3, 'VARDCLR', 3, 'INSTRUCTIONS', 4, 'while', 12, '(', 22, 'COND', 38, ')', 53, ':', 68, 'INSTRUCTIONS', 4, 'INSTRUCTIONS', 4, 'IDF', 11, '=', 21, 'F', 34]\n",
      "{'non_terminal': 'Z', 'production': ''}\n",
      "['#', 0, 'begin', 1, 'VARDCLR', 3, 'VARDCLR', 3, 'VARDCLR', 3, 'VARDCLR', 3, 'INSTRUCTIONS', 4, 'while', 12, '(', 22, 'COND', 38, ')', 53, ':', 68, 'INSTRUCTIONS', 4, 'INSTRUCTIONS', 4, 'IDF', 11, '=', 21, 'F', 34, 'Z', 49]\n",
      "{'non_terminal': 'T', 'production': 'F Z'}\n",
      "['#', 0, 'begin', 1, 'VARDCLR', 3, 'VARDCLR', 3, 'VARDCLR', 3, 'VARDCLR', 3, 'INSTRUCTIONS', 4, 'while', 12, '(', 22, 'COND', 38, ')', 53, ':', 68, 'INSTRUCTIONS', 4, 'INSTRUCTIONS', 4, 'IDF', 11, '=', 21, 'T', 33]\n",
      "{'non_terminal': 'X', 'production': ''}\n",
      "['#', 0, 'begin', 1, 'VARDCLR', 3, 'VARDCLR', 3, 'VARDCLR', 3, 'VARDCLR', 3, 'INSTRUCTIONS', 4, 'while', 12, '(', 22, 'COND', 38, ')', 53, ':', 68, 'INSTRUCTIONS', 4, 'INSTRUCTIONS', 4, 'IDF', 11, '=', 21, 'T', 33, 'X', 46]\n",
      "{'non_terminal': 'EXPR', 'production': 'T X'}\n",
      "['#', 0, 'begin', 1, 'VARDCLR', 3, 'VARDCLR', 3, 'VARDCLR', 3, 'VARDCLR', 3, 'INSTRUCTIONS', 4, 'while', 12, '(', 22, 'COND', 38, ')', 53, ':', 68, 'INSTRUCTIONS', 4, 'INSTRUCTIONS', 4, 'IDF', 11, '=', 21, 'EXPR', 32]\n",
      "['#', 0, 'begin', 1, 'VARDCLR', 3, 'VARDCLR', 3, 'VARDCLR', 3, 'VARDCLR', 3, 'INSTRUCTIONS', 4, 'while', 12, '(', 22, 'COND', 38, ')', 53, ':', 68, 'INSTRUCTIONS', 4, 'INSTRUCTIONS', 4, 'IDF', 11, '=', 21, 'EXPR', 32, ';', 45]\n",
      "{'non_terminal': 'AFF', 'production': 'IDF = EXPR ;'}\n",
      "['#', 0, 'begin', 1, 'VARDCLR', 3, 'VARDCLR', 3, 'VARDCLR', 3, 'VARDCLR', 3, 'INSTRUCTIONS', 4, 'while', 12, '(', 22, 'COND', 38, ')', 53, ':', 68, 'INSTRUCTIONS', 4, 'INSTRUCTIONS', 4, 'AFF', 6]\n",
      "{'non_terminal': 'INSTRUCTIONS', 'production': 'AFF'}\n",
      "['#', 0, 'begin', 1, 'VARDCLR', 3, 'VARDCLR', 3, 'VARDCLR', 3, 'VARDCLR', 3, 'INSTRUCTIONS', 4, 'while', 12, '(', 22, 'COND', 38, ')', 53, ':', 68, 'INSTRUCTIONS', 4, 'INSTRUCTIONS', 4, 'INSTRUCTIONS', 4]\n",
      "['#', 0, 'begin', 1, 'VARDCLR', 3, 'VARDCLR', 3, 'VARDCLR', 3, 'VARDCLR', 3, 'INSTRUCTIONS', 4, 'while', 12, '(', 22, 'COND', 38, ')', 53, ':', 68, 'INSTRUCTIONS', 4, 'INSTRUCTIONS', 4, 'INSTRUCTIONS', 4, 'idf', 16]\n",
      "{'non_terminal': 'IDF', 'production': 'idf'}\n",
      "['#', 0, 'begin', 1, 'VARDCLR', 3, 'VARDCLR', 3, 'VARDCLR', 3, 'VARDCLR', 3, 'INSTRUCTIONS', 4, 'while', 12, '(', 22, 'COND', 38, ')', 53, ':', 68, 'INSTRUCTIONS', 4, 'INSTRUCTIONS', 4, 'INSTRUCTIONS', 4, 'IDF', 11]\n",
      "['#', 0, 'begin', 1, 'VARDCLR', 3, 'VARDCLR', 3, 'VARDCLR', 3, 'VARDCLR', 3, 'INSTRUCTIONS', 4, 'while', 12, '(', 22, 'COND', 38, ')', 53, ':', 68, 'INSTRUCTIONS', 4, 'INSTRUCTIONS', 4, 'INSTRUCTIONS', 4, 'IDF', 11, '=', 21]\n",
      "['#', 0, 'begin', 1, 'VARDCLR', 3, 'VARDCLR', 3, 'VARDCLR', 3, 'VARDCLR', 3, 'INSTRUCTIONS', 4, 'while', 12, '(', 22, 'COND', 38, ')', 53, ':', 68, 'INSTRUCTIONS', 4, 'INSTRUCTIONS', 4, 'INSTRUCTIONS', 4, 'IDF', 11, '=', 21, 'idf', 36]\n",
      "{'non_terminal': 'F', 'production': 'idf'}\n",
      "['#', 0, 'begin', 1, 'VARDCLR', 3, 'VARDCLR', 3, 'VARDCLR', 3, 'VARDCLR', 3, 'INSTRUCTIONS', 4, 'while', 12, '(', 22, 'COND', 38, ')', 53, ':', 68, 'INSTRUCTIONS', 4, 'INSTRUCTIONS', 4, 'INSTRUCTIONS', 4, 'IDF', 11, '=', 21, 'F', 34]\n",
      "{'non_terminal': 'Z', 'production': ''}\n",
      "['#', 0, 'begin', 1, 'VARDCLR', 3, 'VARDCLR', 3, 'VARDCLR', 3, 'VARDCLR', 3, 'INSTRUCTIONS', 4, 'while', 12, '(', 22, 'COND', 38, ')', 53, ':', 68, 'INSTRUCTIONS', 4, 'INSTRUCTIONS', 4, 'INSTRUCTIONS', 4, 'IDF', 11, '=', 21, 'F', 34, 'Z', 49]\n",
      "{'non_terminal': 'T', 'production': 'F Z'}\n",
      "['#', 0, 'begin', 1, 'VARDCLR', 3, 'VARDCLR', 3, 'VARDCLR', 3, 'VARDCLR', 3, 'INSTRUCTIONS', 4, 'while', 12, '(', 22, 'COND', 38, ')', 53, ':', 68, 'INSTRUCTIONS', 4, 'INSTRUCTIONS', 4, 'INSTRUCTIONS', 4, 'IDF', 11, '=', 21, 'T', 33]\n",
      "['#', 0, 'begin', 1, 'VARDCLR', 3, 'VARDCLR', 3, 'VARDCLR', 3, 'VARDCLR', 3, 'INSTRUCTIONS', 4, 'while', 12, '(', 22, 'COND', 38, ')', 53, ':', 68, 'INSTRUCTIONS', 4, 'INSTRUCTIONS', 4, 'INSTRUCTIONS', 4, 'IDF', 11, '=', 21, 'T', 33, '+', 47]\n",
      "['#', 0, 'begin', 1, 'VARDCLR', 3, 'VARDCLR', 3, 'VARDCLR', 3, 'VARDCLR', 3, 'INSTRUCTIONS', 4, 'while', 12, '(', 22, 'COND', 38, ')', 53, ':', 68, 'INSTRUCTIONS', 4, 'INSTRUCTIONS', 4, 'INSTRUCTIONS', 4, 'IDF', 11, '=', 21, 'T', 33, '+', 47, 'num', 37]\n",
      "{'non_terminal': 'F', 'production': 'num'}\n",
      "['#', 0, 'begin', 1, 'VARDCLR', 3, 'VARDCLR', 3, 'VARDCLR', 3, 'VARDCLR', 3, 'INSTRUCTIONS', 4, 'while', 12, '(', 22, 'COND', 38, ')', 53, ':', 68, 'INSTRUCTIONS', 4, 'INSTRUCTIONS', 4, 'INSTRUCTIONS', 4, 'IDF', 11, '=', 21, 'T', 33, '+', 47, 'F', 34]\n",
      "{'non_terminal': 'Z', 'production': ''}\n",
      "['#', 0, 'begin', 1, 'VARDCLR', 3, 'VARDCLR', 3, 'VARDCLR', 3, 'VARDCLR', 3, 'INSTRUCTIONS', 4, 'while', 12, '(', 22, 'COND', 38, ')', 53, ':', 68, 'INSTRUCTIONS', 4, 'INSTRUCTIONS', 4, 'INSTRUCTIONS', 4, 'IDF', 11, '=', 21, 'T', 33, '+', 47, 'F', 34, 'Z', 49]\n",
      "{'non_terminal': 'T', 'production': 'F Z'}\n",
      "['#', 0, 'begin', 1, 'VARDCLR', 3, 'VARDCLR', 3, 'VARDCLR', 3, 'VARDCLR', 3, 'INSTRUCTIONS', 4, 'while', 12, '(', 22, 'COND', 38, ')', 53, ':', 68, 'INSTRUCTIONS', 4, 'INSTRUCTIONS', 4, 'INSTRUCTIONS', 4, 'IDF', 11, '=', 21, 'T', 33, '+', 47, 'T', 63]\n",
      "{'non_terminal': 'X', 'production': ''}\n",
      "['#', 0, 'begin', 1, 'VARDCLR', 3, 'VARDCLR', 3, 'VARDCLR', 3, 'VARDCLR', 3, 'INSTRUCTIONS', 4, 'while', 12, '(', 22, 'COND', 38, ')', 53, ':', 68, 'INSTRUCTIONS', 4, 'INSTRUCTIONS', 4, 'INSTRUCTIONS', 4, 'IDF', 11, '=', 21, 'T', 33, '+', 47, 'T', 63, 'X', 71]\n",
      "{'non_terminal': 'X', 'production': '+ T X'}\n",
      "['#', 0, 'begin', 1, 'VARDCLR', 3, 'VARDCLR', 3, 'VARDCLR', 3, 'VARDCLR', 3, 'INSTRUCTIONS', 4, 'while', 12, '(', 22, 'COND', 38, ')', 53, ':', 68, 'INSTRUCTIONS', 4, 'INSTRUCTIONS', 4, 'INSTRUCTIONS', 4, 'IDF', 11, '=', 21, 'T', 33, 'X', 46]\n",
      "{'non_terminal': 'EXPR', 'production': 'T X'}\n",
      "['#', 0, 'begin', 1, 'VARDCLR', 3, 'VARDCLR', 3, 'VARDCLR', 3, 'VARDCLR', 3, 'INSTRUCTIONS', 4, 'while', 12, '(', 22, 'COND', 38, ')', 53, ':', 68, 'INSTRUCTIONS', 4, 'INSTRUCTIONS', 4, 'INSTRUCTIONS', 4, 'IDF', 11, '=', 21, 'EXPR', 32]\n",
      "['#', 0, 'begin', 1, 'VARDCLR', 3, 'VARDCLR', 3, 'VARDCLR', 3, 'VARDCLR', 3, 'INSTRUCTIONS', 4, 'while', 12, '(', 22, 'COND', 38, ')', 53, ':', 68, 'INSTRUCTIONS', 4, 'INSTRUCTIONS', 4, 'INSTRUCTIONS', 4, 'IDF', 11, '=', 21, 'EXPR', 32, ';', 45]\n",
      "{'non_terminal': 'AFF', 'production': 'IDF = EXPR ;'}\n",
      "['#', 0, 'begin', 1, 'VARDCLR', 3, 'VARDCLR', 3, 'VARDCLR', 3, 'VARDCLR', 3, 'INSTRUCTIONS', 4, 'while', 12, '(', 22, 'COND', 38, ')', 53, ':', 68, 'INSTRUCTIONS', 4, 'INSTRUCTIONS', 4, 'INSTRUCTIONS', 4, 'AFF', 6]\n",
      "{'non_terminal': 'INSTRUCTIONS', 'production': 'AFF'}\n",
      "['#', 0, 'begin', 1, 'VARDCLR', 3, 'VARDCLR', 3, 'VARDCLR', 3, 'VARDCLR', 3, 'INSTRUCTIONS', 4, 'while', 12, '(', 22, 'COND', 38, ')', 53, ':', 68, 'INSTRUCTIONS', 4, 'INSTRUCTIONS', 4, 'INSTRUCTIONS', 4, 'INSTRUCTIONS', 4]\n",
      "{'non_terminal': 'BODY', 'production': ''}\n",
      "['#', 0, 'begin', 1, 'VARDCLR', 3, 'VARDCLR', 3, 'VARDCLR', 3, 'VARDCLR', 3, 'INSTRUCTIONS', 4, 'while', 12, '(', 22, 'COND', 38, ')', 53, ':', 68, 'INSTRUCTIONS', 4, 'INSTRUCTIONS', 4, 'INSTRUCTIONS', 4, 'INSTRUCTIONS', 4, 'BODY', 19]\n",
      "{'non_terminal': 'BODY', 'production': 'INSTRUCTIONS BODY'}\n",
      "['#', 0, 'begin', 1, 'VARDCLR', 3, 'VARDCLR', 3, 'VARDCLR', 3, 'VARDCLR', 3, 'INSTRUCTIONS', 4, 'while', 12, '(', 22, 'COND', 38, ')', 53, ':', 68, 'INSTRUCTIONS', 4, 'INSTRUCTIONS', 4, 'INSTRUCTIONS', 4, 'BODY', 19]\n",
      "{'non_terminal': 'BODY', 'production': 'INSTRUCTIONS BODY'}\n",
      "['#', 0, 'begin', 1, 'VARDCLR', 3, 'VARDCLR', 3, 'VARDCLR', 3, 'VARDCLR', 3, 'INSTRUCTIONS', 4, 'while', 12, '(', 22, 'COND', 38, ')', 53, ':', 68, 'INSTRUCTIONS', 4, 'INSTRUCTIONS', 4, 'BODY', 19]\n",
      "{'non_terminal': 'BODY', 'production': 'INSTRUCTIONS BODY'}\n",
      "['#', 0, 'begin', 1, 'VARDCLR', 3, 'VARDCLR', 3, 'VARDCLR', 3, 'VARDCLR', 3, 'INSTRUCTIONS', 4, 'while', 12, '(', 22, 'COND', 38, ')', 53, ':', 68, 'INSTRUCTIONS', 4, 'BODY', 19]\n",
      "{'non_terminal': 'BODY', 'production': 'INSTRUCTIONS BODY'}\n",
      "['#', 0, 'begin', 1, 'VARDCLR', 3, 'VARDCLR', 3, 'VARDCLR', 3, 'VARDCLR', 3, 'INSTRUCTIONS', 4, 'while', 12, '(', 22, 'COND', 38, ')', 53, ':', 68, 'BODY', 75]\n",
      "['#', 0, 'begin', 1, 'VARDCLR', 3, 'VARDCLR', 3, 'VARDCLR', 3, 'VARDCLR', 3, 'INSTRUCTIONS', 4, 'while', 12, '(', 22, 'COND', 38, ')', 53, ':', 68, 'BODY', 75, 'ewhile', 77]\n",
      "{'non_terminal': 'WHILE', 'production': 'while ( COND ) : BODY ewhile'}\n",
      "['#', 0, 'begin', 1, 'VARDCLR', 3, 'VARDCLR', 3, 'VARDCLR', 3, 'VARDCLR', 3, 'INSTRUCTIONS', 4, 'WHILE', 7]\n",
      "{'non_terminal': 'INSTRUCTIONS', 'production': 'WHILE'}\n",
      "['#', 0, 'begin', 1, 'VARDCLR', 3, 'VARDCLR', 3, 'VARDCLR', 3, 'VARDCLR', 3, 'INSTRUCTIONS', 4, 'INSTRUCTIONS', 4]\n",
      "['#', 0, 'begin', 1, 'VARDCLR', 3, 'VARDCLR', 3, 'VARDCLR', 3, 'VARDCLR', 3, 'INSTRUCTIONS', 4, 'INSTRUCTIONS', 4, '<<', 15]\n",
      "['#', 0, 'begin', 1, 'VARDCLR', 3, 'VARDCLR', 3, 'VARDCLR', 3, 'VARDCLR', 3, 'INSTRUCTIONS', 4, 'INSTRUCTIONS', 4, '<<', 15, 'idf', 16]\n",
      "{'non_terminal': 'IDF', 'production': 'idf'}\n",
      "['#', 0, 'begin', 1, 'VARDCLR', 3, 'VARDCLR', 3, 'VARDCLR', 3, 'VARDCLR', 3, 'INSTRUCTIONS', 4, 'INSTRUCTIONS', 4, '<<', 15, 'IDF', 26]\n",
      "{'non_terminal': 'OPRD', 'production': 'IDF'}\n",
      "['#', 0, 'begin', 1, 'VARDCLR', 3, 'VARDCLR', 3, 'VARDCLR', 3, 'VARDCLR', 3, 'INSTRUCTIONS', 4, 'INSTRUCTIONS', 4, '<<', 15, 'OPRD', 25]\n",
      "['#', 0, 'begin', 1, 'VARDCLR', 3, 'VARDCLR', 3, 'VARDCLR', 3, 'VARDCLR', 3, 'INSTRUCTIONS', 4, 'INSTRUCTIONS', 4, '<<', 15, 'OPRD', 25, ';', 42]\n",
      "{'non_terminal': 'OUT', 'production': '<< OPRD ;'}\n",
      "['#', 0, 'begin', 1, 'VARDCLR', 3, 'VARDCLR', 3, 'VARDCLR', 3, 'VARDCLR', 3, 'INSTRUCTIONS', 4, 'INSTRUCTIONS', 4, 'OUT', 10]\n",
      "{'non_terminal': 'INSTRUCTIONS', 'production': 'OUT'}\n",
      "['#', 0, 'begin', 1, 'VARDCLR', 3, 'VARDCLR', 3, 'VARDCLR', 3, 'VARDCLR', 3, 'INSTRUCTIONS', 4, 'INSTRUCTIONS', 4, 'INSTRUCTIONS', 4]\n",
      "{'non_terminal': 'BODY', 'production': ''}\n",
      "['#', 0, 'begin', 1, 'VARDCLR', 3, 'VARDCLR', 3, 'VARDCLR', 3, 'VARDCLR', 3, 'INSTRUCTIONS', 4, 'INSTRUCTIONS', 4, 'INSTRUCTIONS', 4, 'BODY', 19]\n",
      "{'non_terminal': 'BODY', 'production': 'INSTRUCTIONS BODY'}\n",
      "['#', 0, 'begin', 1, 'VARDCLR', 3, 'VARDCLR', 3, 'VARDCLR', 3, 'VARDCLR', 3, 'INSTRUCTIONS', 4, 'INSTRUCTIONS', 4, 'BODY', 19]\n",
      "{'non_terminal': 'BODY', 'production': 'INSTRUCTIONS BODY'}\n",
      "['#', 0, 'begin', 1, 'VARDCLR', 3, 'VARDCLR', 3, 'VARDCLR', 3, 'VARDCLR', 3, 'INSTRUCTIONS', 4, 'BODY', 19]\n",
      "{'non_terminal': 'BODY', 'production': 'INSTRUCTIONS BODY'}\n",
      "['#', 0, 'begin', 1, 'VARDCLR', 3, 'VARDCLR', 3, 'VARDCLR', 3, 'VARDCLR', 3, 'BODY', 18]\n",
      "{'non_terminal': 'BODY', 'production': 'VARDCLR BODY'}\n",
      "['#', 0, 'begin', 1, 'VARDCLR', 3, 'VARDCLR', 3, 'VARDCLR', 3, 'BODY', 18]\n",
      "{'non_terminal': 'BODY', 'production': 'VARDCLR BODY'}\n",
      "['#', 0, 'begin', 1, 'VARDCLR', 3, 'VARDCLR', 3, 'BODY', 18]\n",
      "{'non_terminal': 'BODY', 'production': 'VARDCLR BODY'}\n",
      "['#', 0, 'begin', 1, 'VARDCLR', 3, 'BODY', 18]\n",
      "{'non_terminal': 'BODY', 'production': 'VARDCLR BODY'}\n",
      "['#', 0, 'begin', 1, 'BODY', 2]\n",
      "['#', 0, 'begin', 1, 'BODY', 2, 'end', 17]\n",
      "=============================\n",
      "entité syntaxiquement CORRECT\n",
      "=============================\n"
     ]
    }
   ],
   "source": [
    "chaine = prog.split(sep=\" \")\n",
    "chaine += \"$\"\n",
    "\n",
    "Stack = ['#',0]\n",
    "#init\n",
    "ptr = chaine[0]\n",
    "state = Stack[-1] # state = 0\n",
    "Do = get_action( lr_table[ptr][0] )\n",
    "\n",
    "# then do \n",
    "while (Do[\"action\"] != None and chaine != ['$']):\n",
    "    haja = []\n",
    "    if   Do[\"action\"] == \"Shift\" : \n",
    "        # SHIFT ==============================::\n",
    "        # D4 => S4 => shift_number = 4\n",
    "        number = int(Do[\"number\"])\n",
    "        Stack.append( chaine.pop(0) )\n",
    "        Stack.append(number)     \n",
    "\n",
    "        # REDUCTION ==========================::\n",
    "    elif Do[\"action\"] == \"Reduction\":\n",
    "        number = int( Do[\"number\"] )        \n",
    "        regle = get_reduction_rule(number)\n",
    "        \n",
    "        print(regle)\n",
    "        \n",
    "        \n",
    "        right_part = regle[\"production\"].split(sep=\" \")\n",
    "\n",
    "        right_part.reverse()\n",
    "        left_part = regle[\"non_terminal\"]\n",
    "        \n",
    "        #:faire la réducyion:#\n",
    "        while ( right_part != [] ):\n",
    "            if right_part == [''] :\n",
    "                break\n",
    "            if Stack[-1] != right_part[0] :\n",
    "                Stack.pop()\n",
    "            elif Stack[-1] == right_part[0]: \n",
    "                Stack.pop()\n",
    "                haja += right_part[0]\n",
    "                right_part.pop(0)\n",
    "            else :\n",
    "                sys.exit(0)\n",
    "        # get la relation entre Stack[-1] et le non-terminal \n",
    "        rel = lr_table[left_part][Stack[-1]]\n",
    "        # empiler la partie gauche :\n",
    "        Stack.append(left_part)\n",
    "        # empiler la relation\n",
    "        Stack.append(int(rel)) \n",
    "    print(Stack)\n",
    "    #print(\"-------\")\n",
    "    #print(chaine)\n",
    "        # NEXT ===============================::\n",
    "    Do = get_action(lr_table[chaine[0]][int(Stack[-1])])\n",
    "\n",
    "if(Do[\"action\"] == \"accept\" and chaine == ['$']) : \n",
    "    print(\"=============================\")\n",
    "    print(\"entité syntaxiquement CORRECT\")\n",
    "    print(\"=============================\")\n",
    "else :\n",
    "    print(\"I will handle errors soon ! \")\n",
    "    print(Do[\"number\"])"
   ]
  },
  {
   "cell_type": "code",
   "execution_count": null,
   "metadata": {},
   "outputs": [],
   "source": [
    "Do[\"number\"]"
   ]
  },
  {
   "cell_type": "code",
   "execution_count": null,
   "metadata": {},
   "outputs": [],
   "source": []
  },
  {
   "cell_type": "code",
   "execution_count": null,
   "metadata": {},
   "outputs": [],
   "source": []
  },
  {
   "cell_type": "code",
   "execution_count": 44,
   "metadata": {},
   "outputs": [
    {
     "data": {
      "text/plain": [
       "\"Pas d'action\""
      ]
     },
     "execution_count": 44,
     "metadata": {},
     "output_type": "execute_result"
    }
   ],
   "source": [
    "get_reduction_rule(44)"
   ]
  },
  {
   "cell_type": "markdown",
   "metadata": {},
   "source": [
    "\n",
    "\n",
    "| Name | Description | age         \n",
    "| :- |:------------- | :-\n",
    "|Mary| She is a nice girl.  | 20\n",
    "| Jackie Junior | He is a very naughty boy. | 5"
   ]
  },
  {
   "cell_type": "code",
   "execution_count": null,
   "metadata": {},
   "outputs": [],
   "source": []
  },
  {
   "cell_type": "code",
   "execution_count": null,
   "metadata": {},
   "outputs": [],
   "source": []
  },
  {
   "cell_type": "markdown",
   "metadata": {},
   "source": [
    "#### TODO : 3andi pb f l'expression arithmetique !!!!"
   ]
  },
  {
   "cell_type": "code",
   "execution_count": 36,
   "metadata": {},
   "outputs": [],
   "source": [
    "def reduction(number):\n",
    "    regle = get_reduction_rule(number)\n",
    "    right_part = regle[\"production\"].split(sep=\" \")\n",
    "    right_part.reverse()\n",
    "    left_part = regle[\"non_terminal\"]\n",
    "    # faire la reduction \n",
    "    while right_part != []:\n",
    "        if Stack[-1] != right_part[0]: # Stack[-1] signifie sommet de pile \n",
    "            Stack.pop() # depiler\n",
    "        elif Stack[-1] == right_part[0]:\n",
    "            Stack.pop()\n",
    "            right_part.pop(0)\n",
    "        else :\n",
    "            sys.exit(1)\n",
    "    # get la relation entre Stack[-1] et le non-terminal     \n",
    "    rel = lr_table[left_part][int(Stack[-1])]\n",
    "    # empiler la partie gauche :\n",
    "    Stack.append(left_part)\n",
    "    # empiler la relation\n",
    "    Stack.append(int(rel)) "
   ]
  },
  {
   "cell_type": "markdown",
   "metadata": {},
   "source": [
    "# Passage vers un language intermédiare"
   ]
  },
  {
   "cell_type": "code",
   "execution_count": 125,
   "metadata": {},
   "outputs": [],
   "source": [
    "prog = \"begin let idf = num ; let idf = num ; >> idf ; while ( idf <= idf ) : idf = idf + idf ; idf = idf ; idf = idf ; idf = idf + num ; ewhile << idf ; end\""
   ]
  },
  {
   "cell_type": "code",
   "execution_count": 126,
   "metadata": {},
   "outputs": [],
   "source": [
    "source = prog.split(sep=\" \")"
   ]
  },
  {
   "cell_type": "code",
   "execution_count": 127,
   "metadata": {
    "scrolled": true
   },
   "outputs": [
    {
     "data": {
      "text/plain": [
       "['begin',\n",
       " 'let',\n",
       " 'idf',\n",
       " '=',\n",
       " 'num',\n",
       " ';',\n",
       " 'let',\n",
       " 'idf',\n",
       " '=',\n",
       " 'num',\n",
       " ';',\n",
       " '>>',\n",
       " 'idf',\n",
       " ';',\n",
       " 'while',\n",
       " '(',\n",
       " 'idf',\n",
       " '<=',\n",
       " 'idf',\n",
       " ')',\n",
       " ':',\n",
       " 'idf',\n",
       " '=',\n",
       " 'idf',\n",
       " '+',\n",
       " 'idf',\n",
       " ';',\n",
       " 'idf',\n",
       " '=',\n",
       " 'idf',\n",
       " ';',\n",
       " 'idf',\n",
       " '=',\n",
       " 'idf',\n",
       " ';',\n",
       " 'idf',\n",
       " '=',\n",
       " 'idf',\n",
       " '+',\n",
       " 'num',\n",
       " ';',\n",
       " 'ewhile',\n",
       " '<<',\n",
       " 'idf',\n",
       " ';',\n",
       " 'end']"
      ]
     },
     "execution_count": 127,
     "metadata": {},
     "output_type": "execute_result"
    }
   ],
   "source": [
    "source"
   ]
  },
  {
   "cell_type": "code",
   "execution_count": 128,
   "metadata": {},
   "outputs": [],
   "source": [
    "c_source = \"\"\n",
    "while source != []:\n",
    "    item = source.pop(0)\n",
    "    \n",
    "    if item == \"begin\":\n",
    "        c_source += \"\"\"#include<stdio.h> \n",
    "        int main(){\"\"\"\n",
    "    if item == \"end\":\n",
    "        c_source += \"return 0;}\"\n",
    "    if item ==\"if\":\n",
    "        c_source += \"if\"\n",
    "    if item ==\"eif\":\n",
    "        c_source += \"}\"\n",
    "    if item ==\"else\":\n",
    "        c_source += \"else}\"\n",
    "    if item ==\"eelse\":\n",
    "        c_source += \"}\"\n",
    "    if item ==\"while\":\n",
    "        c_source += \"while\"       \n",
    "    if item ==\"ewhile\":\n",
    "        c_source += \"}\"\n",
    "    # declaration\n",
    "    if item ==\"let\":\n",
    "        c_source += \"int\"\n",
    "    if item ==\"idf\":\n",
    "        c_source +=\"v_idf\" \n",
    "    if item ==\"num\":\n",
    "        c_source +=\"num\" \n",
    "    # ecriture ;\n",
    "    if item ==\"<<\":\n",
    "        c_source += 'printf(\"%d\",' + source.pop(0) + \")\"\n",
    "    # lire ;\n",
    "    if item ==\">>\":\n",
    "        c_source += 'scanf(\"%d\",&' + source.pop(0) + \")\"\n",
    "    # sep \n",
    "    if item ==\";\":\n",
    "        c_source += \";\"\n",
    "    if item ==\":\":\n",
    "        c_source += \"{\"\n",
    "    if item ==\"(\":\n",
    "        c_source += \"(\"\n",
    "    if item ==\")\":\n",
    "        c_source += \")\"\n",
    "    # opérations mathematiques\n",
    "    if item ==\"=\":\n",
    "        c_source += \"=\"\n",
    "    if item ==\"+\":\n",
    "        c_source += \"+\"\n",
    "    if item ==\"-\":\n",
    "        c_source += \"-\"\n",
    "    if item ==\"/\":\n",
    "        c_source += \"/\"\n",
    "    if item ==\"*\":\n",
    "        c_source += \"*\"\n",
    "    if item ==\"%\":\n",
    "        c_source += \"%\"\n",
    "        # comparaison :\n",
    "    if item ==\"<\":\n",
    "        c_source += \"<\"\n",
    "    if item ==\">\":\n",
    "        c_source += \">\"\n",
    "    if item ==\"~\":\n",
    "        c_source += \"==\"\n",
    "    if item ==\"<=\":\n",
    "        c_source += \"<=\"\n",
    "    if item ==\">=\":\n",
    "        c_source += \">=\"\n",
    "f = open(\"c.c\",\"w\")\n",
    "f.write(c_source)\n",
    "f.close()"
   ]
  },
  {
   "cell_type": "code",
   "execution_count": 129,
   "metadata": {},
   "outputs": [
    {
     "data": {
      "text/plain": [
       "'#include<stdio.h> \\n        int main(){intv_idf=num;intv_idf=num;scanf(\"%d\",&idf);while(v_idf<=v_idf){v_idf=v_idf+v_idf;v_idf=v_idf;v_idf=v_idf;v_idf=v_idf+num;}printf(\"%d\",idf);return 0;}'"
      ]
     },
     "execution_count": 129,
     "metadata": {},
     "output_type": "execute_result"
    }
   ],
   "source": [
    "c_source"
   ]
  },
  {
   "cell_type": "code",
   "execution_count": 80,
   "metadata": {},
   "outputs": [],
   "source": []
  },
  {
   "cell_type": "code",
   "execution_count": null,
   "metadata": {},
   "outputs": [],
   "source": []
  },
  {
   "cell_type": "code",
   "execution_count": null,
   "metadata": {},
   "outputs": [],
   "source": []
  },
  {
   "cell_type": "code",
   "execution_count": 135,
   "metadata": {},
   "outputs": [
    {
     "data": {
      "text/plain": [
       "0"
      ]
     },
     "execution_count": 135,
     "metadata": {},
     "output_type": "execute_result"
    }
   ],
   "source": [
    "import os\n",
    "\n",
    "compilez = 'gcc c_souce.c -o output'\n",
    "os.system(compilez)\n",
    "\n",
    "\n",
    "os.system(\"gnome-terminal -e 'bash -c \\\"ls; exec bash\\\"'\")"
   ]
  },
  {
   "cell_type": "code",
   "execution_count": null,
   "metadata": {},
   "outputs": [],
   "source": []
  },
  {
   "cell_type": "code",
   "execution_count": 137,
   "metadata": {},
   "outputs": [],
   "source": [
    "used = [\n",
    "    {'token_type': 'begin', 'value': None},\n",
    "    {'token_type': 'let', 'value': None},\n",
    "    {'token_type': 'idf', 'value': '_a'},\n",
    "    {'token_type': '=', 'value': None},\n",
    "    {'token_type': 'num', 'value': '1'},\n",
    "    {'token_type': ';', 'value': None},\n",
    "    {'token_type': 'end', 'value': None}]"
   ]
  },
  {
   "cell_type": "code",
   "execution_count": 144,
   "metadata": {},
   "outputs": [],
   "source": [
    "a = [ item[\"value\"] for item in used ]\n",
    "b = [ item[\"token_type\"] for item in used ]"
   ]
  },
  {
   "cell_type": "code",
   "execution_count": 145,
   "metadata": {},
   "outputs": [
    {
     "data": {
      "text/plain": [
       "[None, None, '_a', None, '1', None, None]"
      ]
     },
     "execution_count": 145,
     "metadata": {},
     "output_type": "execute_result"
    }
   ],
   "source": [
    "a"
   ]
  },
  {
   "cell_type": "code",
   "execution_count": 146,
   "metadata": {},
   "outputs": [
    {
     "data": {
      "text/plain": [
       "['begin', 'let', 'idf', '=', 'num', ';', 'end']"
      ]
     },
     "execution_count": 146,
     "metadata": {},
     "output_type": "execute_result"
    }
   ],
   "source": [
    "b"
   ]
  },
  {
   "cell_type": "code",
   "execution_count": null,
   "metadata": {},
   "outputs": [],
   "source": []
  },
  {
   "cell_type": "code",
   "execution_count": null,
   "metadata": {},
   "outputs": [],
   "source": [
    "c_source = \"\"\n",
    "for i in range(len(source)) :\n",
    "    if source[i] == \"begin\":\n",
    "        c_source += \"\"\"#include<stdio.h> \n",
    "        int main(){\"\"\"\n",
    "    if source[i] == \"end\":\n",
    "        c_source += \"return 0;}\"\n",
    "    if source[i] ==\"if\":\n",
    "        c_source += \"if\"\n",
    "    if source[i] ==\"eif\":\n",
    "        c_source += \"}\"\n",
    "    if source[i] ==\"else\":\n",
    "        c_source += \"else}\"\n",
    "    if source[i] ==\"eelse\":\n",
    "        c_source += \"}\"\n",
    "    if source[i] ==\"while\":\n",
    "        c_source += \"while\"       \n",
    "    if source[i] ==\"ewhile\":\n",
    "        c_source += \"}\"\n",
    "    # declaration\n",
    "    if source[i] ==\"let\":\n",
    "        c_source +=\"'type '\" # regard le type du svt\n",
    "    \n",
    "    if source[i] ==\"idf\":\n",
    "        c_source +=\"v_idf\" \n",
    "    if source[i] ==\"num\":\n",
    "        c_source +=\"num\" \n",
    "    # ecriture ;\n",
    "    if source[i] ==\"<<\":\n",
    "        c_source += \"printf('type',\" + source[i+1] + \")\"\n",
    "    # lire ;\n",
    "    if source[i] ==\">>\":\n",
    "        c_source += \"scanf('type',\" + source[i+1] + \")\"\n",
    "    # sep \n",
    "    if source[i] ==\";\":\n",
    "        c_source += \";\"\n",
    "    if source[i] ==\":\":\n",
    "        c_source += \"{\"\n",
    "    if source[i] ==\"(\":\n",
    "        c_source += \"(\"\n",
    "    if source[i] ==\")\":\n",
    "        c_source += \")\"\n",
    "    # opérations mathematiques\n",
    "    if source[i] ==\"=\":\n",
    "        c_source += \"=\"\n",
    "    if source[i] ==\"+\":\n",
    "        c_source += \"+\"\n",
    "    if source[i] ==\"-\":\n",
    "        c_source += \"-\"\n",
    "    if source[i] ==\"/\":\n",
    "        c_source += \"/\"\n",
    "    if source[i] ==\"*\":\n",
    "        c_source += \"*\"\n",
    "    if source[i] ==\"%\":\n",
    "        c_source += \"%\"\n",
    "        # comparaison :\n",
    "    if source[i] ==\"<\":\n",
    "        c_source += \"<\"\n",
    "    if source[i] ==\">\":\n",
    "        c_source += \">\"\n",
    "    if source[i] ==\"~\":\n",
    "        c_source += \"==\"\n",
    "    if source[i] ==\"<=\":\n",
    "        c_source += \"<=\"\n",
    "    if source[i] ==\">=\":\n",
    "        c_source += \">=\"\n",
    "#f = open(\"c.c\",\"w\")\n",
    "#f.write(c_source)\n",
    "#f.close()"
   ]
  }
 ],
 "metadata": {
  "kernelspec": {
   "display_name": "Python 3",
   "language": "python",
   "name": "python3"
  },
  "language_info": {
   "codemirror_mode": {
    "name": "ipython",
    "version": 3
   },
   "file_extension": ".py",
   "mimetype": "text/x-python",
   "name": "python",
   "nbconvert_exporter": "python",
   "pygments_lexer": "ipython3",
   "version": "3.7.4"
  }
 },
 "nbformat": 4,
 "nbformat_minor": 2
}
